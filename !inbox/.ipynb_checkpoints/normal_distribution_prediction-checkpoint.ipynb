{
 "cells": [
  {
   "cell_type": "code",
   "execution_count": 75,
   "metadata": {},
   "outputs": [],
   "source": [
    "import numpy as np\n",
    "import matplotlib.pyplot as plt\n",
    "import pandas as pd\n",
    "\n",
    "from sklearn.linear_model import LinearRegression\n",
    "from sklearn.preprocessing import PolynomialFeatures\n",
    "from sklearn.model_selection import train_test_split\n",
    "\n",
    "\n",
    "from scipy.stats import norm\n",
    "\n",
    "from keras.models import Sequential\n",
    "from keras.losses import MSE\n",
    "from keras.optimizers import SGD\n",
    "from keras.layers import Dense, Activation\n",
    "\n",
    "\n",
    "import tensorflow as tf"
   ]
  },
  {
   "cell_type": "code",
   "execution_count": 2,
   "metadata": {},
   "outputs": [],
   "source": [
    "regressor = Ridge()"
   ]
  },
  {
   "cell_type": "code",
   "execution_count": 49,
   "metadata": {},
   "outputs": [],
   "source": [
    "def create_normal_points(size=25, loc=20, scale=5):\n",
    "    inputs = np.arange(size)\n",
    "    outputs = np.array([norm(loc=loc, scale=scale).pdf(x) for x in inputs])\n",
    "    return inputs, outputs"
   ]
  },
  {
   "cell_type": "code",
   "execution_count": 50,
   "metadata": {
    "scrolled": true
   },
   "outputs": [
    {
     "data": {
      "image/png": "[encoded data removed]",
      "text/plain": [
       "<Figure size 432x288 with 1 Axes>"
      ]
     },
     "metadata": {
      "needs_background": "light"
     },
     "output_type": "display_data"
    }
   ],
   "source": [
    "inputs, outputs = create_normal_points()\n",
    "plt.plot(inputs, outputs)\n",
    "plt.show()"
   ]
  },
  {
   "cell_type": "code",
   "execution_count": 38,
   "metadata": {},
   "outputs": [],
   "source": [
    "def compose_net_input(X, in_size=1, out_size=1, stride=1):\n",
    "    inputs = []\n",
    "    outputs = []\n",
    "    for i in range((len(X) - in_size - out_size) // stride + 1):\n",
    "        inputs.append(X[i * stride : i * stride + in_size])\n",
    "        outputs.append(X[i * stride + in_size : i * stride + in_size + out_size])\n",
    "    return np.array(inputs), np.array(outputs)"
   ]
  },
  {
   "cell_type": "code",
   "execution_count": 52,
   "metadata": {
    "scrolled": true
   },
   "outputs": [
    {
     "name": "stdout",
     "output_type": "stream",
     "text": [
      "X shape:  (20, 5)\n",
      "y shape:  (20, 1)\n"
     ]
    }
   ],
   "source": [
    "X, y = compose_net_input(outputs, in_size=5)\n",
    "print('X shape: ', X.shape)\n",
    "print('y shape: ', y.shape)"
   ]
  },
  {
   "cell_type": "code",
   "execution_count": null,
   "metadata": {},
   "outputs": [],
   "source": [
    "polynomial = PolynomialFeatures(degree=2)\n",
    "X = polynomial.fit_transform(X)"
   ]
  },
  {
   "cell_type": "code",
   "execution_count": 46,
   "metadata": {
    "scrolled": true
   },
   "outputs": [
    {
     "name": "stdout",
     "output_type": "stream",
     "text": [
      "           0         1         2         3         4         5\n",
      "0   0.000027  0.000058  0.000122  0.000246  0.000477  0.000886\n",
      "1   0.000058  0.000122  0.000246  0.000477  0.000886  0.001583\n",
      "2   0.000122  0.000246  0.000477  0.000886  0.001583  0.002717\n",
      "3   0.000246  0.000477  0.000886  0.001583  0.002717  0.004479\n",
      "4   0.000477  0.000886  0.001583  0.002717  0.004479  0.007095\n",
      "5   0.000886  0.001583  0.002717  0.004479  0.007095  0.010798\n",
      "6   0.001583  0.002717  0.004479  0.007095  0.010798  0.015790\n",
      "7   0.002717  0.004479  0.007095  0.010798  0.015790  0.022184\n",
      "8   0.004479  0.007095  0.010798  0.015790  0.022184  0.029945\n",
      "9   0.007095  0.010798  0.015790  0.022184  0.029945  0.038837\n",
      "10  0.010798  0.015790  0.022184  0.029945  0.038837  0.048394\n",
      "11  0.015790  0.022184  0.029945  0.038837  0.048394  0.057938\n",
      "12  0.022184  0.029945  0.038837  0.048394  0.057938  0.066645\n",
      "13  0.029945  0.038837  0.048394  0.057938  0.066645  0.073654\n",
      "14  0.038837  0.048394  0.057938  0.066645  0.073654  0.078209\n",
      "15  0.048394  0.057938  0.066645  0.073654  0.078209  0.079788\n",
      "16  0.057938  0.066645  0.073654  0.078209  0.079788  0.078209\n",
      "17  0.066645  0.073654  0.078209  0.079788  0.078209  0.073654\n",
      "18  0.073654  0.078209  0.079788  0.078209  0.073654  0.066645\n",
      "19  0.078209  0.079788  0.078209  0.073654  0.066645  0.057938\n",
      "20  0.079788  0.078209  0.073654  0.066645  0.057938  0.048394\n",
      "21  0.078209  0.073654  0.066645  0.057938  0.048394  0.038837\n",
      "22  0.073654  0.066645  0.057938  0.048394  0.038837  0.029945\n",
      "23  0.066645  0.057938  0.048394  0.038837  0.029945  0.022184\n",
      "24  0.057938  0.048394  0.038837  0.029945  0.022184  0.015790\n",
      "25  0.048394  0.038837  0.029945  0.022184  0.015790  0.010798\n",
      "26  0.038837  0.029945  0.022184  0.015790  0.010798  0.007095\n",
      "27  0.029945  0.022184  0.015790  0.010798  0.007095  0.004479\n",
      "28  0.022184  0.015790  0.010798  0.007095  0.004479  0.002717\n",
      "29  0.015790  0.010798  0.007095  0.004479  0.002717  0.001583\n",
      "30  0.010798  0.007095  0.004479  0.002717  0.001583  0.000886\n",
      "31  0.007095  0.004479  0.002717  0.001583  0.000886  0.000477\n",
      "32  0.004479  0.002717  0.001583  0.000886  0.000477  0.000246\n",
      "33  0.002717  0.001583  0.000886  0.000477  0.000246  0.000122\n",
      "34  0.001583  0.000886  0.000477  0.000246  0.000122  0.000058\n"
     ]
    }
   ],
   "source": [
    "# Review dataset\n",
    "print(pd.DataFrame(np.concatenate((X, y), axis=1)))"
   ]
  },
  {
   "cell_type": "code",
   "execution_count": 59,
   "metadata": {
    "scrolled": true
   },
   "outputs": [
    {
     "data": {
      "image/png": "[encoded data removed]",
      "text/plain": [
       "<Figure size 432x288 with 1 Axes>"
      ]
     },
     "metadata": {
      "needs_background": "light"
     },
     "output_type": "display_data"
    }
   ],
   "source": [
    "X_train, X_test, y_train, y_test = train_test_split(X, y, test_size=0.2, shuffle=False)\n",
    "plt.scatter(np.arange(len(y_train)), y_train[:, 0], color='red')\n",
    "plt.scatter(np.arange(len(y_train), len(y_train) + len(y_test)), y_test[:, 0], color='blue')\n",
    "plt.show()"
   ]
  },
  {
   "cell_type": "code",
   "execution_count": 77,
   "metadata": {},
   "outputs": [],
   "source": [
    "# Don't use the next cell\n",
    "# if you use this cell\n",
    "model = LinearRegression()"
   ]
  },
  {
   "cell_type": "code",
   "execution_count": null,
   "metadata": {},
   "outputs": [],
   "source": [
    "# model = Sequential ((\n",
    "#     Dense(10, input_shape=(5,)),\n",
    "#     Activation('relu'),II\n",
    "#     Dense(10, input_shape=(10,)),\n",
    "#     Activation('relu'),\n",
    "#     Dense(1, input_sIIpe=(10,)),\n",
    "#     Activation('relu')\n",
    "# ))\n",
    "\n",
    "\n",
    "\n",
    "# model.compile(\n",
    "#     optimizer=SGD(lr=0.01),\n",
    "#     loss=MSE\n",
    "# )"
   ]
  },
  {
   "cell_type": "code",
   "execution_count": null,
   "metadata": {
    "scrolled": true
   },
   "outputs": [],
   "source": [
    "model.fit(X_train, y_train)\n",
    "\n",
    "y_pred = model.predict(X_test)\n",
    "\n",
    "\n",
    "print('Accuracy on the train set: ', model.score(X_train, y_train))\n",
    "print('Accuracy on the test set: ', model.score(X_test, y_test))\n",
    "\n",
    "\n",
    "plt.plot(X_test[:, 0], y_pred[:, 0], color='red')\n",
    "plt.plot(X_test[:, 0], y_test[:, 0], color='blue')\n",
    "plt.show()"
   ]
  },
  {
   "cell_type": "code",
   "execution_count": 74,
   "metadata": {},
   "outputs": [
    {
     "name": "stdout",
     "output_type": "stream",
     "text": [
      "     y_pred    y_test\n",
      "0  0.067554  0.078209\n",
      "1  0.067674  0.073654\n",
      "2  0.065703  0.066645\n",
      "3  0.062565  0.057938\n"
     ]
    }
   ],
   "source": [
    "print(pd.DataFrame.from_dict({\n",
    "        'y_pred': y_pred[:, 0],\n",
    "        'y_test': y_test[:, 0]\n",
    "}))"
   ]
  },
  {
   "cell_type": "code",
   "execution_count": 30,
   "metadata": {},
   "outputs": [
    {
     "name": "stdout",
     "output_type": "stream",
     "text": [
      "(199,)\n",
      "(199,)\n"
     ]
    }
   ],
   "source": [
    "print(X_test[:, 0].shape)\n",
    "print(y_pred[:, 0].shape)"
   ]
  },
  {
   "cell_type": "code",
   "execution_count": null,
   "metadata": {},
   "outputs": [],
   "source": [
    "?Dense"
   ]
  }
 ],
 "metadata": {
  "kernelspec": {
   "display_name": "Python 3",
   "language": "python",
   "name": "python3"
  },
  "language_info": {
   "codemirror_mode": {
    "name": "ipython",
    "version": 3
   },
   "file_extension": ".py",
   "mimetype": "text/x-python",
   "name": "python",
   "nbconvert_exporter": "python",
   "pygments_lexer": "ipython3",
   "version": "3.7.3"
  }
 },
 "nbformat": 4,
 "nbformat_minor": 2
}
